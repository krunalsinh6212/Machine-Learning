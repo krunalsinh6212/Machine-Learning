{
 "cells": [
  {
   "cell_type": "code",
   "execution_count": 1,
   "id": "29f07324-1ef3-4e0c-8a53-7a3a45592940",
   "metadata": {},
   "outputs": [
    {
     "name": "stdout",
     "output_type": "stream",
     "text": [
      "Mode: 10\n"
     ]
    }
   ],
   "source": [
    "import statistics as st \n",
    "a=[20, 10, 50, 10, 21, 90] \n",
    "s=st.mode(a) \n",
    "print(\"Mode:\",s) "
   ]
  },
  {
   "cell_type": "code",
   "execution_count": 2,
   "id": "f5afee4c-5b47-4ae5-accb-10cddd18b37d",
   "metadata": {},
   "outputs": [
    {
     "name": "stdout",
     "output_type": "stream",
     "text": [
      "Mean: 33.5\n"
     ]
    }
   ],
   "source": [
    "a=[20, 10, 50, 10, 21, 90] \n",
    "m=st.mean(a) \n",
    "print(\"Mean:\",m) "
   ]
  },
  {
   "cell_type": "code",
   "execution_count": 3,
   "id": "d940568e-2932-4659-889c-79e50afb65ed",
   "metadata": {},
   "outputs": [
    {
     "name": "stdout",
     "output_type": "stream",
     "text": [
      "[[10 20 30 50 10]\n",
      " [ 1  2  3  5  6]]\n",
      "Dim: 2\n"
     ]
    }
   ],
   "source": [
    "import numpy as np \n",
    "b=np.array([[10, 20, 30, 50, 10],[1, 2, 3, 5, 6]]) \n",
    "print(b) \n",
    "print(\"Dim:\",b.ndim) "
   ]
  },
  {
   "cell_type": "code",
   "execution_count": 4,
   "id": "98864958-c7d1-48a4-ba02-41b8822ea3dd",
   "metadata": {},
   "outputs": [
    {
     "name": "stdout",
     "output_type": "stream",
     "text": [
      "[[10 20 30 50 10]\n",
      " [ 1  2  3  5  6]\n",
      " [ 1  1  1  1  1]]\n",
      "Dim: 2\n",
      "Shape: (3, 5)\n",
      "Size: 15\n",
      "Item Size: 8\n",
      "Data type: int64\n"
     ]
    }
   ],
   "source": [
    "b=np.array([[10, 20, 30, 50, 10],[1, 2, 3, 5, 6],[1,1,1,1,1]]) \n",
    "print(b) \n",
    "print(\"Dim:\",b.ndim) \n",
    "print(\"Shape:\",b.shape) \n",
    "print(\"Size:\",b.size) \n",
    "print(\"Item Size:\",b.itemsize) \n",
    "print(\"Data type:\",b.dtype) "
   ]
  },
  {
   "cell_type": "code",
   "execution_count": 7,
   "id": "bedf48f8-e4d3-4031-9ea4-006add44d5e3",
   "metadata": {},
   "outputs": [
    {
     "data": {
      "text/plain": [
       "array([[6.23042070e-307, 4.67296746e-307, 1.69121096e-306,\n",
       "        3.11522054e-307, 1.42413555e-306],\n",
       "       [1.78019082e-306, 1.37960147e-306, 1.33511562e-306,\n",
       "        2.22518251e-306, 1.33511969e-306],\n",
       "       [1.78022342e-306, 1.05700345e-307, 1.69118108e-306,\n",
       "        8.06632139e-308, 1.20160711e-306],\n",
       "       [1.69119330e-306, 1.29062229e-306, 1.24610383e-306,\n",
       "        6.89804132e-307, 7.56602523e-307],\n",
       "       [8.90095411e-307, 1.42419530e-306, 2.22522596e-306,\n",
       "        2.22507386e-306, 3.91786943e-317]])"
      ]
     },
     "execution_count": 7,
     "metadata": {},
     "output_type": "execute_result"
    }
   ],
   "source": [
    "c=np.empty((5,5))\n",
    "c"
   ]
  },
  {
   "cell_type": "code",
   "execution_count": 8,
   "id": "de632159-2687-42e3-935c-08e86d661689",
   "metadata": {},
   "outputs": [
    {
     "data": {
      "text/plain": [
       "array([ 0,  2,  4,  6,  8, 10, 12, 14, 16, 18, 20, 22, 24, 26, 28, 30, 32,\n",
       "       34, 36, 38, 40, 42, 44, 46, 48, 50, 52, 54, 56, 58, 60, 62, 64, 66,\n",
       "       68, 70, 72, 74, 76, 78, 80, 82, 84, 86, 88, 90, 92, 94, 96, 98])"
      ]
     },
     "execution_count": 8,
     "metadata": {},
     "output_type": "execute_result"
    }
   ],
   "source": [
    "d=np.arange(0,100,2)\n",
    "d"
   ]
  },
  {
   "cell_type": "code",
   "execution_count": 9,
   "id": "7db5bb15-0a40-4cf4-a5f7-a6d0ab9bfb81",
   "metadata": {},
   "outputs": [
    {
     "data": {
      "text/plain": [
       "array([[ 0,  2,  4,  6,  8],\n",
       "       [10, 12, 14, 16, 18],\n",
       "       [20, 22, 24, 26, 28],\n",
       "       [30, 32, 34, 36, 38],\n",
       "       [40, 42, 44, 46, 48],\n",
       "       [50, 52, 54, 56, 58],\n",
       "       [60, 62, 64, 66, 68],\n",
       "       [70, 72, 74, 76, 78],\n",
       "       [80, 82, 84, 86, 88],\n",
       "       [90, 92, 94, 96, 98]])"
      ]
     },
     "execution_count": 9,
     "metadata": {},
     "output_type": "execute_result"
    }
   ],
   "source": [
    "e=np.reshape(d,(10,5))\n",
    "e"
   ]
  },
  {
   "cell_type": "code",
   "execution_count": 10,
   "id": "f63ba79a-a865-46a8-b6cd-9a7e711b0f0d",
   "metadata": {},
   "outputs": [
    {
     "name": "stdout",
     "output_type": "stream",
     "text": [
      "[[[ 0  2  4  6  8]\n",
      "  [10 12 14 16 18]\n",
      "  [20 22 24 26 28]\n",
      "  [30 32 34 36 38]\n",
      "  [40 42 44 46 48]]\n",
      "\n",
      " [[50 52 54 56 58]\n",
      "  [60 62 64 66 68]\n",
      "  [70 72 74 76 78]\n",
      "  [80 82 84 86 88]\n",
      "  [90 92 94 96 98]]]\n"
     ]
    }
   ],
   "source": [
    "f=np.reshape(e,(2,5,5)) \n",
    "print(f)"
   ]
  },
  {
   "cell_type": "code",
   "execution_count": 11,
   "id": "ff2a9cd8-6387-4078-8b0d-0f81d988363d",
   "metadata": {},
   "outputs": [
    {
     "name": "stdout",
     "output_type": "stream",
     "text": [
      "Last element: 20\n",
      "ELement upto 10: [ 0  2  4  6  8 10 12 14 16 18]\n"
     ]
    }
   ],
   "source": [
    "print(\"Last element:\",d[10]) \n",
    " \n",
    "print(\"ELement upto 10:\",d[:10])"
   ]
  },
  {
   "cell_type": "code",
   "execution_count": 12,
   "id": "b180d7b7-ef6f-49bd-a8fe-44eb71564c28",
   "metadata": {},
   "outputs": [
    {
     "name": "stdout",
     "output_type": "stream",
     "text": [
      "Last 5 element: [90 92 94 96 98]\n"
     ]
    }
   ],
   "source": [
    "print(\"Last 5 element:\",d[-5:])"
   ]
  },
  {
   "cell_type": "code",
   "execution_count": 13,
   "id": "51e7500d-4b3b-4679-a184-8e032d58a8fe",
   "metadata": {},
   "outputs": [
    {
     "name": "stdout",
     "output_type": "stream",
     "text": [
      "Alternative Numbers: [ 0  4  8 12 16 20 24 28 32 36 40 44 48 52 56 60 64 68 72 76 80 84 88 92\n",
      " 96]\n"
     ]
    }
   ],
   "source": [
    "print(\"Alternative Numbers:\",d[::2])"
   ]
  },
  {
   "cell_type": "code",
   "execution_count": 15,
   "id": "29fb82b4-5407-4a71-9f74-c844b06c88ed",
   "metadata": {},
   "outputs": [
    {
     "name": "stdout",
     "output_type": "stream",
     "text": [
      "   pid pname  price vendor\n",
      "0    1     A     10     V1\n",
      "1    2     B     20     V2\n",
      "2    3     C     30     V3\n",
      "3    4     D     40     V4\n",
      "4    5     E     50     V5\n"
     ]
    }
   ],
   "source": [
    "import pandas as pd \n",
    "\n",
    "p_dict = {\n",
    "    'pid': [1, 2, 3, 4, 5], \n",
    "    'pname': ['A', 'B', 'C', 'D', 'E'], \n",
    "    'price': [10, 20, 30, 40, 50], \n",
    "    'vendor': ['V1', 'V2', 'V3', 'V4', 'V5']\n",
    "}\n",
    "\n",
    "# Creating DataFrame\n",
    "grt = pd.DataFrame(p_dict)\n",
    "print(grt)\n"
   ]
  },
  {
   "cell_type": "code",
   "execution_count": null,
   "id": "c8f82047-7836-4288-9abe-4c7037e91f00",
   "metadata": {},
   "outputs": [],
   "source": []
  }
 ],
 "metadata": {
  "kernelspec": {
   "display_name": "Python 3 (ipykernel)",
   "language": "python",
   "name": "python3"
  },
  "language_info": {
   "codemirror_mode": {
    "name": "ipython",
    "version": 3
   },
   "file_extension": ".py",
   "mimetype": "text/x-python",
   "name": "python",
   "nbconvert_exporter": "python",
   "pygments_lexer": "ipython3",
   "version": "3.13.1"
  }
 },
 "nbformat": 4,
 "nbformat_minor": 5
}
