{
 "cells": [
  {
   "cell_type": "code",
   "execution_count": 2,
   "id": "656928e4-d835-4e9d-a0da-9eb297e583a6",
   "metadata": {},
   "outputs": [
    {
     "name": "stdout",
     "output_type": "stream",
     "text": [
      "   salary_more_then_100k  company_abc pharma  company_facebook  \\\n",
      "0                      0                 0.0               0.0   \n",
      "1                      0                 0.0               0.0   \n",
      "2                      1                 0.0               0.0   \n",
      "3                      1                 0.0               0.0   \n",
      "4                      0                 0.0               0.0   \n",
      "\n",
      "   company_google  job_business manager  job_computer programmer  \\\n",
      "0             1.0                   0.0                      0.0   \n",
      "1             1.0                   0.0                      0.0   \n",
      "2             1.0                   1.0                      0.0   \n",
      "3             1.0                   1.0                      0.0   \n",
      "4             1.0                   0.0                      1.0   \n",
      "\n",
      "   job_sales executive  degree_bachelors  degree_masters  \n",
      "0                  1.0               1.0             0.0  \n",
      "1                  1.0               0.0             1.0  \n",
      "2                  0.0               1.0             0.0  \n",
      "3                  0.0               0.0             1.0  \n",
      "4                  0.0               1.0             0.0  \n"
     ]
    }
   ],
   "source": [
    "import pandas as pd\n",
    "from sklearn.preprocessing import OneHotEncoder\n",
    "\n",
    "# Load the dataset\n",
    "file_path = 'E:\\\\JUPYTER\\\\Machine Learning\\\\One Hot Encoder\\\\salaries.xlsx'\n",
    "data = pd.read_excel(file_path)\n",
    "\n",
    "# Selecting categorical columns for one-hot encoding\n",
    "categorical_columns = ['company', 'job', 'degree']\n",
    "\n",
    "# Applying OneHotEncoder \n",
    "encoder = OneHotEncoder(sparse_output=False)\n",
    "one_hot_encoded = encoder.fit_transform(data[categorical_columns])\n",
    "\n",
    "# Converting the encoded data to a DataFrame\n",
    "encoded_df = pd.DataFrame(one_hot_encoded, columns=encoder.get_feature_names_out(categorical_columns))\n",
    "\n",
    "# Concatenating the original dataset with the encoded columns\n",
    "final_data = pd.concat([data.drop(categorical_columns, axis=1), encoded_df], axis=1)\n",
    "\n",
    "# Display the transformed dataset\n",
    "print(final_data.head())\n"
   ]
  },
  {
   "cell_type": "code",
   "execution_count": null,
   "id": "6c7fe955-e9ff-4aec-9a93-490eee7ac550",
   "metadata": {},
   "outputs": [],
   "source": []
  }
 ],
 "metadata": {
  "kernelspec": {
   "display_name": "Python 3 (ipykernel)",
   "language": "python",
   "name": "python3"
  },
  "language_info": {
   "codemirror_mode": {
    "name": "ipython",
    "version": 3
   },
   "file_extension": ".py",
   "mimetype": "text/x-python",
   "name": "python",
   "nbconvert_exporter": "python",
   "pygments_lexer": "ipython3",
   "version": "3.13.1"
  }
 },
 "nbformat": 4,
 "nbformat_minor": 5
}
