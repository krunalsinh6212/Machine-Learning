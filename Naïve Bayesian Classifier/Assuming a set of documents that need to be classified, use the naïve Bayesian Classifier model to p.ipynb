{
 "cells": [
  {
   "cell_type": "code",
   "execution_count": 1,
   "id": "c7aabf4b",
   "metadata": {},
   "outputs": [],
   "source": [
    "import pandas as pd "
   ]
  },
  {
   "cell_type": "code",
   "execution_count": 2,
   "id": "90dda53d",
   "metadata": {},
   "outputs": [],
   "source": [
    "msg=pd.read_csv('E:\\\\JUPYTER\\\\Machine Learning\\\\Naïve Bayesian Classifier\\\\document.5.csv',names=['message','label']) #It names'message' and 'label' as column name "
   ]
  },
  {
   "cell_type": "code",
   "execution_count": 3,
   "id": "2e310635",
   "metadata": {},
   "outputs": [
    {
     "name": "stdout",
     "output_type": "stream",
     "text": [
      "The dimensions of the dataset (18, 2)\n"
     ]
    }
   ],
   "source": [
    "print('The dimensions of the dataset',msg.shape)"
   ]
  },
  {
   "cell_type": "code",
   "execution_count": 4,
   "id": "c79bd50c",
   "metadata": {},
   "outputs": [
    {
     "name": "stdout",
     "output_type": "stream",
     "text": [
      "                                  message label  labelnum\n",
      "0                    I love this sandwich   pos         1\n",
      "1                This is an amazing place   pos         1\n",
      "2      I feel very good about these beers   pos         1\n",
      "3                    This is my best work   pos         1\n",
      "4                    What an awesome view   pos         1\n",
      "5           I do not like this restaurant   neg         0\n",
      "6                I am tired of this stuff   neg         0\n",
      "7                  I can't deal with this   neg         0\n",
      "8                    He is my sworn enemy   neg         0\n",
      "9                     My boss is horrible   neg         0\n",
      "10               This is an awesome place   pos         1\n",
      "11  I do not like the taste of this juice   neg         0\n",
      "12                        I love to dance   pos         1\n",
      "13      I am sick and tired of this place   neg         0\n",
      "14                   What a great holiday   pos         1\n",
      "15         That is a bad locality to stay   neg         0\n",
      "16         We will have good fun tomorrow   pos         1\n",
      "17       I went to my enemy's house today   neg         0\n"
     ]
    }
   ],
   "source": [
    "msg['labelnum'] = msg['label'].map({'pos': 1, 'neg': 0}) #Creates a new column 'labelnum' in the message dataframe by mapping 'pos' to 1 and 'neg' to 0 from the 'label' column\n",
    "# Displays the contents of the updated msg DataFrame\n",
    "print(msg)"
   ]
  },
  {
   "cell_type": "code",
   "execution_count": 5,
   "id": "3310af73",
   "metadata": {},
   "outputs": [],
   "source": [
    "X = msg['message']  # Feature \n",
    "y = msg['labelnum']  # Target"
   ]
  },
  {
   "cell_type": "code",
   "execution_count": 6,
   "id": "320bc088",
   "metadata": {},
   "outputs": [],
   "source": [
    "#splitting the dataset into train and test data (75% train and 25% test)\n",
    "\n",
    "from sklearn.model_selection import train_test_split \n",
    "xtrain,xtest,ytrain,ytest=train_test_split(X,y) #X is used for the feature matrix(independent variables or predictors), ensuring correctness and clarity. y represents target variable"
   ]
  },
  {
   "cell_type": "code",
   "execution_count": 7,
   "id": "9080adee",
   "metadata": {},
   "outputs": [
    {
     "name": "stdout",
     "output_type": "stream",
     "text": [
      "\n",
      " The total number of Training Data : (13,)\n",
      "\n",
      " The total number of Test Data : (5,)\n",
      "2        I feel very good about these beers\n",
      "7                    I can't deal with this\n",
      "8                      He is my sworn enemy\n",
      "16           We will have good fun tomorrow\n",
      "3                      This is my best work\n",
      "13        I am sick and tired of this place\n",
      "11    I do not like the taste of this juice\n",
      "15           That is a bad locality to stay\n",
      "1                  This is an amazing place\n",
      "5             I do not like this restaurant\n",
      "9                       My boss is horrible\n",
      "10                 This is an awesome place\n",
      "14                     What a great holiday\n",
      "Name: message, dtype: object\n",
      "12                     I love to dance\n",
      "6             I am tired of this stuff\n",
      "17    I went to my enemy's house today\n",
      "0                 I love this sandwich\n",
      "4                 What an awesome view\n",
      "Name: message, dtype: object\n",
      "2     1\n",
      "7     0\n",
      "8     0\n",
      "16    1\n",
      "3     1\n",
      "13    0\n",
      "11    0\n",
      "15    0\n",
      "1     1\n",
      "5     0\n",
      "9     0\n",
      "10    1\n",
      "14    1\n",
      "Name: labelnum, dtype: int64\n",
      "12    1\n",
      "6     0\n",
      "17    0\n",
      "0     1\n",
      "4     1\n",
      "Name: labelnum, dtype: int64\n"
     ]
    }
   ],
   "source": [
    "print ('\\n The total number of Training Data :',ytrain.shape) \n",
    "print ('\\n The total number of Test Data :',ytest.shape) \n",
    "print(xtrain)\n",
    "print(xtest)\n",
    "print(ytrain)\n",
    "print(ytest)"
   ]
  },
  {
   "cell_type": "code",
   "execution_count": 8,
   "id": "b1daf121",
   "metadata": {},
   "outputs": [
    {
     "name": "stdout",
     "output_type": "stream",
     "text": [
      "<Compressed Sparse Row sparse matrix of dtype 'int64'\n",
      "\twith 69 stored elements and shape (13, 48)>\n",
      "  Coords\tValues\n",
      "  (0, 14)\t1\n",
      "  (0, 42)\t1\n",
      "  (0, 16)\t1\n",
      "  (0, 0)\t1\n",
      "  (0, 37)\t1\n",
      "  (0, 7)\t1\n",
      "  (1, 10)\t1\n",
      "  (1, 11)\t1\n",
      "  (1, 46)\t1\n",
      "  (1, 38)\t1\n",
      "  (2, 19)\t1\n",
      "  (2, 22)\t1\n",
      "  (2, 26)\t1\n",
      "  (2, 33)\t1\n",
      "  (2, 13)\t1\n",
      "  (3, 16)\t1\n",
      "  (3, 43)\t1\n",
      "  (3, 45)\t1\n",
      "  (3, 18)\t1\n",
      "  (3, 15)\t1\n",
      "  (3, 41)\t1\n",
      "  (4, 38)\t1\n",
      "  (4, 22)\t1\n",
      "  (4, 26)\t1\n",
      "  (4, 8)\t1\n",
      "  :\t:\n",
      "  (7, 25)\t1\n",
      "  (7, 40)\t1\n",
      "  (7, 32)\t1\n",
      "  (8, 38)\t1\n",
      "  (8, 22)\t1\n",
      "  (8, 29)\t1\n",
      "  (8, 3)\t1\n",
      "  (8, 2)\t1\n",
      "  (9, 38)\t1\n",
      "  (9, 12)\t1\n",
      "  (9, 27)\t1\n",
      "  (9, 24)\t1\n",
      "  (9, 30)\t1\n",
      "  (10, 22)\t1\n",
      "  (10, 26)\t1\n",
      "  (10, 9)\t1\n",
      "  (10, 21)\t1\n",
      "  (11, 38)\t1\n",
      "  (11, 22)\t1\n",
      "  (11, 29)\t1\n",
      "  (11, 3)\t1\n",
      "  (11, 5)\t1\n",
      "  (12, 44)\t1\n",
      "  (12, 17)\t1\n",
      "  (12, 20)\t1\n",
      "<Compressed Sparse Row sparse matrix of dtype 'int64'\n",
      "\twith 12 stored elements and shape (5, 48)>\n",
      "  Coords\tValues\n",
      "  (0, 40)\t1\n",
      "  (1, 1)\t1\n",
      "  (1, 28)\t1\n",
      "  (1, 38)\t1\n",
      "  (1, 39)\t1\n",
      "  (2, 13)\t1\n",
      "  (2, 26)\t1\n",
      "  (2, 40)\t1\n",
      "  (3, 38)\t1\n",
      "  (4, 3)\t1\n",
      "  (4, 5)\t1\n",
      "  (4, 44)\t1\n",
      "The words or Tokens in the text documents \n",
      "\n",
      "['about' 'am' 'amazing' 'an' 'and' 'awesome' 'bad' 'beers' 'best' 'boss'\n",
      " 'can' 'deal' 'do' 'enemy' 'feel' 'fun' 'good' 'great' 'have' 'he'\n",
      " 'holiday' 'horrible' 'is' 'juice' 'like' 'locality' 'my' 'not' 'of'\n",
      " 'place' 'restaurant' 'sick' 'stay' 'sworn' 'taste' 'that' 'the' 'these'\n",
      " 'this' 'tired' 'to' 'tomorrow' 'very' 'we' 'what' 'will' 'with' 'work']\n"
     ]
    }
   ],
   "source": [
    "from sklearn.feature_extraction.text import CountVectorizer #Import CountVectorizer \n",
    "count_vect = CountVectorizer() #Store CountVectorizer in count_vect instance\n",
    "xtrain_dtm = count_vect.fit_transform(xtrain) #Fit count vectorizer on train data, tokenize text and convert into matrix, each row is sentence, each column is word, value represent count of words in sentence\n",
    "print(xtrain_dtm)\n",
    "xtest_dtm=count_vect.transform(xtest) #Fit count vectorizer on test data\n",
    "print(xtest_dtm)\n",
    "print('The words or Tokens in the text documents \\n') \n",
    "print(count_vect.get_feature_names_out())#Returns the list of unique words (features/tokens) learned from the training data (xtrain).\n"
   ]
  },
  {
   "cell_type": "code",
   "execution_count": 9,
   "id": "80aa4036",
   "metadata": {},
   "outputs": [
    {
     "name": "stdout",
     "output_type": "stream",
     "text": [
      "Word Count DataFrame:\n",
      "\n",
      "    about  am  amazing  an  and  awesome  bad  beers  best  boss  ...  this  \\\n",
      "0       1   0        0   0    0        0    0      1     0     0  ...     0   \n",
      "1       0   0        0   0    0        0    0      0     0     0  ...     1   \n",
      "2       0   0        0   0    0        0    0      0     0     0  ...     0   \n",
      "3       0   0        0   0    0        0    0      0     0     0  ...     0   \n",
      "4       0   0        0   0    0        0    0      0     1     0  ...     1   \n",
      "5       0   1        0   0    1        0    0      0     0     0  ...     1   \n",
      "6       0   0        0   0    0        0    0      0     0     0  ...     1   \n",
      "7       0   0        0   0    0        0    1      0     0     0  ...     0   \n",
      "8       0   0        1   1    0        0    0      0     0     0  ...     1   \n",
      "9       0   0        0   0    0        0    0      0     0     0  ...     1   \n",
      "10      0   0        0   0    0        0    0      0     0     1  ...     0   \n",
      "11      0   0        0   1    0        1    0      0     0     0  ...     1   \n",
      "12      0   0        0   0    0        0    0      0     0     0  ...     0   \n",
      "\n",
      "    tired  to  tomorrow  very  we  what  will  with  work  \n",
      "0       0   0         0     1   0     0     0     0     0  \n",
      "1       0   0         0     0   0     0     0     1     0  \n",
      "2       0   0         0     0   0     0     0     0     0  \n",
      "3       0   0         1     0   1     0     1     0     0  \n",
      "4       0   0         0     0   0     0     0     0     1  \n",
      "5       1   0         0     0   0     0     0     0     0  \n",
      "6       0   0         0     0   0     0     0     0     0  \n",
      "7       0   1         0     0   0     0     0     0     0  \n",
      "8       0   0         0     0   0     0     0     0     0  \n",
      "9       0   0         0     0   0     0     0     0     0  \n",
      "10      0   0         0     0   0     0     0     0     0  \n",
      "11      0   0         0     0   0     0     0     0     0  \n",
      "12      0   0         0     0   0     1     0     0     0  \n",
      "\n",
      "[13 rows x 48 columns]\n"
     ]
    }
   ],
   "source": [
    "df = pd.DataFrame(xtrain_dtm.toarray(), #Converts the sparse matrix to a dense NumPy array for better readability.\n",
    "columns=count_vect.get_feature_names_out()) #Retrieve the list of unique words, each unique word is treated as columns\n",
    "print(\"Word Count DataFrame:\\n\")\n",
    "print(df) "
   ]
  },
  {
   "cell_type": "code",
   "execution_count": 10,
   "id": "b253093b",
   "metadata": {},
   "outputs": [
    {
     "name": "stdout",
     "output_type": "stream",
     "text": [
      "Predicted Count DataFrame:\n",
      "\n",
      "[0 0 0 0 1]\n"
     ]
    }
   ],
   "source": [
    "# Training Naive Bayes (NB) classifier on training data\n",
    "from sklearn.naive_bayes import MultinomialNB \n",
    "clf = MultinomialNB().fit(xtrain_dtm,ytrain) \n",
    "predicted = clf.predict(xtest_dtm)\n",
    "print(\"Predicted Count DataFrame:\\n\")\n",
    "print(predicted) "
   ]
  },
  {
   "cell_type": "code",
   "execution_count": 11,
   "id": "83e91366",
   "metadata": {},
   "outputs": [
    {
     "name": "stdout",
     "output_type": "stream",
     "text": [
      "\n",
      "Accuracy of the classifier is: 0.6\n"
     ]
    }
   ],
   "source": [
    "#printing accuracy, Confusion matrix, Precision and Recall\n",
    "from sklearn import metrics \n",
    "print('\\nAccuracy of the classifier is:', metrics.accuracy_score(ytest, predicted)) "
   ]
  },
  {
   "cell_type": "code",
   "execution_count": 12,
   "id": "3859f0a2",
   "metadata": {},
   "outputs": [
    {
     "name": "stdout",
     "output_type": "stream",
     "text": [
      "\n",
      " Confusion matrix\n",
      "[[2 0]\n",
      " [2 1]]\n"
     ]
    }
   ],
   "source": [
    "print('\\n Confusion matrix') \n",
    "print(metrics.confusion_matrix(ytest,predicted)) "
   ]
  },
  {
   "cell_type": "code",
   "execution_count": 13,
   "id": "b4262e16",
   "metadata": {},
   "outputs": [
    {
     "name": "stdout",
     "output_type": "stream",
     "text": [
      "\n",
      " The value of Precision: 1.0\n"
     ]
    }
   ],
   "source": [
    "print('\\n The value of Precision:', \n",
    "metrics.precision_score(ytest,predicted))"
   ]
  },
  {
   "cell_type": "code",
   "execution_count": 14,
   "id": "f08a06bf",
   "metadata": {},
   "outputs": [
    {
     "name": "stdout",
     "output_type": "stream",
     "text": [
      "\n",
      " The value of Recall: 0.3333333333333333\n"
     ]
    }
   ],
   "source": [
    "print('\\n The value of Recall:', metrics.recall_score(ytest,predicted))"
   ]
  }
 ],
 "metadata": {
  "kernelspec": {
   "display_name": "Python 3 (ipykernel)",
   "language": "python",
   "name": "python3"
  },
  "language_info": {
   "codemirror_mode": {
    "name": "ipython",
    "version": 3
   },
   "file_extension": ".py",
   "mimetype": "text/x-python",
   "name": "python",
   "nbconvert_exporter": "python",
   "pygments_lexer": "ipython3",
   "version": "3.13.1"
  }
 },
 "nbformat": 4,
 "nbformat_minor": 5
}
