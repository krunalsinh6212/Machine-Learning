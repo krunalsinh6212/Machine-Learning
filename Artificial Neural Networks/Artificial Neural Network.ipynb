{
 "cells": [
  {
   "cell_type": "code",
   "execution_count": 2,
   "id": "5571475f-4474-46ce-a302-c7daefdac164",
   "metadata": {},
   "outputs": [
    {
     "name": "stdout",
     "output_type": "stream",
     "text": [
      "Predictions after training:\n",
      "[[0.01253125]\n",
      " [0.98144325]\n",
      " [0.98498736]\n",
      " [0.01769962]]\n"
     ]
    }
   ],
   "source": [
    "import numpy as np\n",
    "\n",
    "# Activation function and its derivative\n",
    "def sigmoid(x):\n",
    "    return 1 / (1 + np.exp(-x))\n",
    "\n",
    "def sigmoid_derivative(x):\n",
    "    return x * (1 - x)\n",
    "\n",
    "# Define the structure of the neural network\n",
    "class NeuralNetwork:\n",
    "    def __init__(self, input_size, hidden_size, output_size, learning_rate=0.5):\n",
    "        self.input_size = input_size\n",
    "        self.hidden_size = hidden_size\n",
    "        self.output_size = output_size\n",
    "        self.learning_rate = learning_rate\n",
    "\n",
    "        # Initialize weights and biases\n",
    "        self.weights_input_hidden = np.random.uniform(-1, 1, (self.input_size, self.hidden_size))\n",
    "        self.bias_hidden = np.random.uniform(-1, 1, (1, self.hidden_size))\n",
    "        self.weights_hidden_output = np.random.uniform(-1, 1, (self.hidden_size, self.output_size))\n",
    "        self.bias_output = np.random.uniform(-1, 1, (1, self.output_size))\n",
    "    \n",
    "    def feedforward(self, X):\n",
    "        self.hidden_input = np.dot(X, self.weights_input_hidden) + self.bias_hidden\n",
    "        self.hidden_output = sigmoid(self.hidden_input)\n",
    "        self.final_input = np.dot(self.hidden_output, self.weights_hidden_output) + self.bias_output\n",
    "        self.final_output = sigmoid(self.final_input)\n",
    "        return self.final_output\n",
    "    \n",
    "    def backpropagation(self, X, y):\n",
    "        # Forward pass\n",
    "        output = self.feedforward(X)\n",
    "        \n",
    "        # Compute the error\n",
    "        error = y - output\n",
    "        \n",
    "        # Compute output layer gradient\n",
    "        output_gradient = error * sigmoid_derivative(output)\n",
    "        \n",
    "        # Compute hidden layer gradient\n",
    "        hidden_error = np.dot(output_gradient, self.weights_hidden_output.T)\n",
    "        hidden_gradient = hidden_error * sigmoid_derivative(self.hidden_output)\n",
    "        \n",
    "        # Update weights and biases\n",
    "        self.weights_hidden_output += self.hidden_output.T.dot(output_gradient) * self.learning_rate\n",
    "        self.bias_output += np.sum(output_gradient, axis=0, keepdims=True) * self.learning_rate\n",
    "        self.weights_input_hidden += X.T.dot(hidden_gradient) * self.learning_rate\n",
    "        self.bias_hidden += np.sum(hidden_gradient, axis=0, keepdims=True) * self.learning_rate\n",
    "    \n",
    "    def train(self, X, y, epochs=10000):\n",
    "        for _ in range(epochs):\n",
    "            self.backpropagation(X, y)\n",
    "\n",
    "# Define XOR dataset\n",
    "X = np.array([[0, 0], [0, 1], [1, 0], [1, 1]])\n",
    "y = np.array([[0], [1], [1], [0]])\n",
    "\n",
    "# Initialize and train the neural network\n",
    "nn = NeuralNetwork(input_size=2, hidden_size=4, output_size=1, learning_rate=0.5)\n",
    "nn.train(X, y, epochs=10000)\n",
    "\n",
    "# Test the trained neural network\n",
    "output = nn.feedforward(X)\n",
    "print(\"Predictions after training:\")\n",
    "print(output)\n"
   ]
  },
  {
   "cell_type": "code",
   "execution_count": null,
   "id": "d6119185-6b17-4fcf-b045-9d273ebadce6",
   "metadata": {},
   "outputs": [],
   "source": []
  }
 ],
 "metadata": {
  "kernelspec": {
   "display_name": "Python 3 (ipykernel)",
   "language": "python",
   "name": "python3"
  },
  "language_info": {
   "codemirror_mode": {
    "name": "ipython",
    "version": 3
   },
   "file_extension": ".py",
   "mimetype": "text/x-python",
   "name": "python",
   "nbconvert_exporter": "python",
   "pygments_lexer": "ipython3",
   "version": "3.13.1"
  }
 },
 "nbformat": 4,
 "nbformat_minor": 5
}
